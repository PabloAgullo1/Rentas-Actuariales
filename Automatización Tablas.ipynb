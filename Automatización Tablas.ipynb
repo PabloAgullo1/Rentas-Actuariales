{
 "cells": [
  {
   "cell_type": "code",
   "execution_count": 28,
   "metadata": {},
   "outputs": [],
   "source": [
    "import pandas as pd\n",
    "import numpy as np\n",
    "\n",
    "# Cargar todas las hojas en un diccionario de DataFrames\n",
    "excel_tablas = \"Tablas PER 2000 y 2020.xlsx\" \n",
    "hojas = pd.read_excel(excel_tablas, sheet_name=None, header=1)  # Cargar todas las pestañas\n",
    "xlsx = pd.ExcelFile(excel_tablas) # Cargar el archivo Excel y sirve para obtener los nombres de las pestañas\n",
    "\n",
    "# Obtener los nombres de todas las pestañas\n",
    "nombres_pestañas = xlsx.sheet_names\n"
   ]
  },
  {
   "cell_type": "code",
   "execution_count": 33,
   "metadata": {},
   "outputs": [
    {
     "data": {
      "text/plain": [
       "['PERM2000C',\n",
       " 'PERF2000C',\n",
       " 'PERM2000P',\n",
       " 'PERF2000P',\n",
       " 'PERM_2020_Indiv_2Orden',\n",
       " 'PERM_2020_Indiv_1Orden',\n",
       " 'PERF_2020_Indiv_2Orden',\n",
       " 'PERF_2020_Indiv_1Orden',\n",
       " 'PERM_2020_Colectivos_2Orden',\n",
       " 'PERM_2020_Colectivos_1Orden',\n",
       " 'PERF_2020_Colectivos_2Orden',\n",
       " 'PERF_2020_Colectivos_1Orden']"
      ]
     },
     "execution_count": 33,
     "metadata": {},
     "output_type": "execute_result"
    }
   ],
   "source": [
    "nombres_pestañas"
   ]
  },
  {
   "cell_type": "code",
   "execution_count": null,
   "metadata": {},
   "outputs": [],
   "source": [
    "def leer_tablas(nombre_pestaña):\n",
    "    \"\"\"\n",
    "    La función leer_tablas toma el nombre de una pestaña del archivo Excel y devuelve un DataFrame\n",
    "    que contiene los datos de esa Tabla de Mortalidad. La primera fila se utiliza como encabezado y \n",
    "    la primera columna se establece como índice (edad x+t).\n",
    "    \"\"\"\n",
    "    # Leer la tabla de la hoja especificada\n",
    "    df = hojas[nombre_pestaña]\n",
    "    df.set_index(df.columns[0], inplace=True)  # Establecer la primera columna como índice\n",
    "    return df"
   ]
  },
  {
   "cell_type": "code",
   "execution_count": null,
   "metadata": {},
   "outputs": [],
   "source": [
    "def generacion(g, nombre_pestaña):\n",
    "\n",
    "         \n",
    "    if nombre_pestaña in ['PERM2000C',\n",
    "                            'PERF2000C',\n",
    "                            'PERM2000P',\n",
    "                            'PERF2000P',]:\n",
    "        x_mas_t = 2000 - g\n",
    "\n",
    "        if g > 2000:\n",
    "            raise ValueError(\"La generación no puede ser mayor a 2000.\")\n",
    "\n",
    "        \n",
    "    \n",
    "    elif nombre_pestaña in ['PERM_2020_Indiv_2Orden',\n",
    "                            'PERM_2020_Indiv_1Orden',\n",
    "                            'PERF_2020_Indiv_2Orden',\n",
    "                            'PERF_2020_Indiv_1Orden',\n",
    "                            'PERM_2020_Colectivos_2Orden',\n",
    "                            'PERM_2020_Colectivos_1Orden',\n",
    "                            'PERF_2020_Colectivos_2Orden',\n",
    "                            'PERF_2020_Colectivos_1Orden']:\n",
    "        x_mas_t = 2012 - g\n",
    "\n",
    "        if g > 2012:\n",
    "            raise ValueError(\"La generación no puede ser mayor a 2012.\")\n",
    "    \n",
    "\n",
    "    return "
   ]
  }
 ],
 "metadata": {
  "kernelspec": {
   "display_name": "Python 3",
   "language": "python",
   "name": "python3"
  },
  "language_info": {
   "codemirror_mode": {
    "name": "ipython",
    "version": 3
   },
   "file_extension": ".py",
   "mimetype": "text/x-python",
   "name": "python",
   "nbconvert_exporter": "python",
   "pygments_lexer": "ipython3",
   "version": "3.13.0"
  }
 },
 "nbformat": 4,
 "nbformat_minor": 2
}

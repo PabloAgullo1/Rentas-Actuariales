{
 "cells": [
  {
   "cell_type": "code",
   "execution_count": 37,
   "metadata": {},
   "outputs": [],
   "source": [
    "import pandas as pd\n",
    "import numpy as np\n",
    "import math\n",
    "\n",
    "# Cargar todas las hojas en un diccionario de DataFrames\n",
    "excel_tablas = \"Tablas PER 2000 y 2020.xlsx\" \n",
    "hojas = pd.read_excel(excel_tablas, sheet_name=None, header=1)  # Cargar todas las pestañas\n",
    "xlsx = pd.ExcelFile(excel_tablas) # Cargar el archivo Excel y sirve para obtener los nombres de las pestañas\n",
    "\n",
    "# Obtener los nombres de todas las pestañas\n",
    "nombres_pestañas = xlsx.sheet_names\n"
   ]
  },
  {
   "cell_type": "code",
   "execution_count": 38,
   "metadata": {},
   "outputs": [
    {
     "data": {
      "text/plain": [
       "['PERM2000C',\n",
       " 'PERF2000C',\n",
       " 'PERM2000P',\n",
       " 'PERF2000P',\n",
       " 'PERM_2020_Indiv_2Orden',\n",
       " 'PERM_2020_Indiv_1Orden',\n",
       " 'PERF_2020_Indiv_2Orden',\n",
       " 'PERF_2020_Indiv_1Orden',\n",
       " 'PERM_2020_Colectivos_2Orden',\n",
       " 'PERM_2020_Colectivos_1Orden',\n",
       " 'PERF_2020_Colectivos_2Orden',\n",
       " 'PERF_2020_Colectivos_1Orden']"
      ]
     },
     "execution_count": 38,
     "metadata": {},
     "output_type": "execute_result"
    }
   ],
   "source": [
    "nombres_pestañas"
   ]
  },
  {
   "cell_type": "code",
   "execution_count": 39,
   "metadata": {},
   "outputs": [],
   "source": [
    "def leer_tablas(nombre_pestaña):\n",
    "    \"\"\"\n",
    "    La función leer_tablas toma el nombre de una pestaña del archivo Excel y devuelve un DataFrame\n",
    "    que contiene los datos de esa Tabla de Mortalidad. La primera fila se utiliza como encabezado y \n",
    "    la primera columna se establece como índice (edad x+t).\n",
    "    \"\"\"\n",
    "    # Leer la tabla de la hoja especificada\n",
    "    df = hojas[nombre_pestaña]\n",
    "    df.set_index(df.columns[0], inplace=True)  # Establecer la primera columna como índice\n",
    "    return df\n",
    "\n",
    "def generacion(g, nombre_pestaña):\n",
    "\n",
    "         \n",
    "    if nombre_pestaña in ['PERM2000C',\n",
    "                            'PERF2000C',\n",
    "                            'PERM2000P',\n",
    "                            'PERF2000P',]:\n",
    "        x_mas_t = 2000 - g\n",
    "\n",
    "        if g > 2000:\n",
    "            raise ValueError(\"La generación no puede ser mayor a 2000.\")\n",
    "\n",
    "        \n",
    "    \n",
    "    elif nombre_pestaña in ['PERM_2020_Indiv_2Orden',\n",
    "                            'PERM_2020_Indiv_1Orden',\n",
    "                            'PERF_2020_Indiv_2Orden',\n",
    "                            'PERF_2020_Indiv_1Orden',\n",
    "                            'PERM_2020_Colectivos_2Orden',\n",
    "                            'PERM_2020_Colectivos_1Orden',\n",
    "                            'PERF_2020_Colectivos_2Orden',\n",
    "                            'PERF_2020_Colectivos_1Orden']:\n",
    "        x_mas_t = 2012 - g\n",
    "\n",
    "        if g > 2012:\n",
    "            raise ValueError(\"La generación no puede ser mayor a 2012.\")\n",
    " \n",
    "    return x_mas_t\n",
    "\n",
    "\n",
    "def q_x(qx, mejora, t):\n",
    "    '''\n",
    "    La función q_x(x, mejora) recibe la probabilidad de muerte qx de la tabla de mortalidad y el factor de mejora de ésta\n",
    "    Devuelve la probabilidad de muerte qx ajustada por el factor de mejora.\n",
    "    '''\n",
    "    return qx*math.exp(-mejora*t)"
   ]
  },
  {
   "cell_type": "code",
   "execution_count": 47,
   "metadata": {},
   "outputs": [
    {
     "data": {
      "text/plain": [
       "int"
      ]
     },
     "execution_count": 47,
     "metadata": {},
     "output_type": "execute_result"
    }
   ],
   "source": [
    "edad_inicio = generacion(1990, 'PERM2000C')\n",
    "\n",
    "type(edad_inicio)\n"
   ]
  },
  {
   "cell_type": "code",
   "execution_count": 50,
   "metadata": {},
   "outputs": [],
   "source": [
    "x_mas_t_list = list(range(edad_inicio, len(hojas['PERM2000C'])))\n",
    "\n",
    "# Crear un DataFrame vacío para almacenar los resultados\n",
    "resultados = pd.DataFrame(columns=['Edad', 'x+t', 'qx+t ajustado'])\n"
   ]
  },
  {
   "cell_type": "code",
   "execution_count": 53,
   "metadata": {},
   "outputs": [
    {
     "data": {
      "text/html": [
       "<div>\n",
       "<style scoped>\n",
       "    .dataframe tbody tr th:only-of-type {\n",
       "        vertical-align: middle;\n",
       "    }\n",
       "\n",
       "    .dataframe tbody tr th {\n",
       "        vertical-align: top;\n",
       "    }\n",
       "\n",
       "    .dataframe thead th {\n",
       "        text-align: right;\n",
       "    }\n",
       "</style>\n",
       "<table border=\"1\" class=\"dataframe\">\n",
       "  <thead>\n",
       "    <tr style=\"text-align: right;\">\n",
       "      <th></th>\n",
       "      <th>Edad</th>\n",
       "      <th>x+t</th>\n",
       "      <th>qx+t ajustado</th>\n",
       "    </tr>\n",
       "  </thead>\n",
       "  <tbody>\n",
       "    <tr>\n",
       "      <th>0</th>\n",
       "      <td>NaN</td>\n",
       "      <td>10</td>\n",
       "      <td>NaN</td>\n",
       "    </tr>\n",
       "    <tr>\n",
       "      <th>1</th>\n",
       "      <td>NaN</td>\n",
       "      <td>11</td>\n",
       "      <td>NaN</td>\n",
       "    </tr>\n",
       "    <tr>\n",
       "      <th>2</th>\n",
       "      <td>NaN</td>\n",
       "      <td>12</td>\n",
       "      <td>NaN</td>\n",
       "    </tr>\n",
       "    <tr>\n",
       "      <th>3</th>\n",
       "      <td>NaN</td>\n",
       "      <td>13</td>\n",
       "      <td>NaN</td>\n",
       "    </tr>\n",
       "    <tr>\n",
       "      <th>4</th>\n",
       "      <td>NaN</td>\n",
       "      <td>14</td>\n",
       "      <td>NaN</td>\n",
       "    </tr>\n",
       "    <tr>\n",
       "      <th>...</th>\n",
       "      <td>...</td>\n",
       "      <td>...</td>\n",
       "      <td>...</td>\n",
       "    </tr>\n",
       "    <tr>\n",
       "      <th>99</th>\n",
       "      <td>NaN</td>\n",
       "      <td>109</td>\n",
       "      <td>NaN</td>\n",
       "    </tr>\n",
       "    <tr>\n",
       "      <th>100</th>\n",
       "      <td>NaN</td>\n",
       "      <td>110</td>\n",
       "      <td>NaN</td>\n",
       "    </tr>\n",
       "    <tr>\n",
       "      <th>101</th>\n",
       "      <td>NaN</td>\n",
       "      <td>111</td>\n",
       "      <td>NaN</td>\n",
       "    </tr>\n",
       "    <tr>\n",
       "      <th>102</th>\n",
       "      <td>NaN</td>\n",
       "      <td>112</td>\n",
       "      <td>NaN</td>\n",
       "    </tr>\n",
       "    <tr>\n",
       "      <th>103</th>\n",
       "      <td>NaN</td>\n",
       "      <td>113</td>\n",
       "      <td>NaN</td>\n",
       "    </tr>\n",
       "  </tbody>\n",
       "</table>\n",
       "<p>104 rows × 3 columns</p>\n",
       "</div>"
      ],
      "text/plain": [
       "    Edad  x+t qx+t ajustado\n",
       "0    NaN   10           NaN\n",
       "1    NaN   11           NaN\n",
       "2    NaN   12           NaN\n",
       "3    NaN   13           NaN\n",
       "4    NaN   14           NaN\n",
       "..   ...  ...           ...\n",
       "99   NaN  109           NaN\n",
       "100  NaN  110           NaN\n",
       "101  NaN  111           NaN\n",
       "102  NaN  112           NaN\n",
       "103  NaN  113           NaN\n",
       "\n",
       "[104 rows x 3 columns]"
      ]
     },
     "execution_count": 53,
     "metadata": {},
     "output_type": "execute_result"
    }
   ],
   "source": [
    "resultados['x+t'] = x_mas_t_list\n",
    "resultados"
   ]
  },
  {
   "cell_type": "code",
   "execution_count": null,
   "metadata": {},
   "outputs": [],
   "source": []
  }
 ],
 "metadata": {
  "kernelspec": {
   "display_name": "Python 3",
   "language": "python",
   "name": "python3"
  },
  "language_info": {
   "codemirror_mode": {
    "name": "ipython",
    "version": 3
   },
   "file_extension": ".py",
   "mimetype": "text/x-python",
   "name": "python",
   "nbconvert_exporter": "python",
   "pygments_lexer": "ipython3",
   "version": "3.13.0"
  }
 },
 "nbformat": 4,
 "nbformat_minor": 2
}
